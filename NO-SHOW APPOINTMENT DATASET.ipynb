{
 "cells": [
  {
   "cell_type": "markdown",
   "id": "f039f2f9",
   "metadata": {},
   "source": [
    "# Project: No-show appointment Dataset.\n",
    "## Table of contents\n",
    "<ul>\n",
    "    <li><a href = \"#intro\">Introduction</a></li>\n",
    "    <li><a href = \"Question\">Question for analysis</a></li>\n",
    "    <li><a href = \"#wrangling\">Data Wrangling</a></li>\n",
    "    <li><a href = \"#Exploration\">Exploratory Data Analysis</a></li>\n",
    "    <li><a href = \"#Conclusions\">Conclusions</a></li>\n",
    "     <li><a href = \"#Ref\">References</a></li>\n",
    "</ul>"
   ]
  },
  {
   "cell_type": "markdown",
   "id": "08a686e6",
   "metadata": {},
   "source": [
    "<a id='intro'></a>\n",
    "## Introduction\n",
    "\n",
    "For my first project,I have chosen the No-show appointment dataset.This dataset contains information from more than 100k medical appointments in brazil and is centered on the question of whether or not patients show up for their appointment.This dataset contains the following variables:\n",
    "- Patient Id\n",
    "- Appointment id\n",
    "- Scheduledd day\n",
    "- Appointment day\n",
    "- Age\n",
    "- Neighbourhood\n",
    "- Scholarship\n",
    "- Hipertension\n",
    "- Diabetes\n",
    "- Alcoholism\n",
    "- Handcap\n",
    "- SMS_received\n",
    "- No-show\n",
    "</ul>"
   ]
  },
  {
   "cell_type": "markdown",
   "id": "9a92c2d6",
   "metadata": {},
   "source": [
    "<a id='Question'></a>\n",
    "## Question for Analysis.\n",
    "1. How many patients were able to receive the SMS and showed up?\n",
    "1. Which gender showed up or never showed up the most.\n",
    "1. Can the age distribution be used to determine if a patient will show up or not"
   ]
  },
  {
   "cell_type": "markdown",
   "id": "422c3e8d",
   "metadata": {},
   "source": [
    "<a id='wrangling'></a>\n",
    "## Data Wrangling"
   ]
  },
  {
   "cell_type": "code",
   "execution_count": 1,
   "id": "997b583d",
   "metadata": {},
   "outputs": [],
   "source": [
    "## importing the necessary libraries for this project\n",
    "import numpy as np\n",
    "import pandas as pd\n",
    "import matplotlib.pyplot as plt\n",
    "import seaborn as sns\n",
    "%matplotlib inline"
   ]
  },
  {
   "cell_type": "code",
   "execution_count": 9,
   "id": "a429c414",
   "metadata": {},
   "outputs": [
    {
     "data": {
      "text/html": [
       "<div>\n",
       "<style scoped>\n",
       "    .dataframe tbody tr th:only-of-type {\n",
       "        vertical-align: middle;\n",
       "    }\n",
       "\n",
       "    .dataframe tbody tr th {\n",
       "        vertical-align: top;\n",
       "    }\n",
       "\n",
       "    .dataframe thead th {\n",
       "        text-align: right;\n",
       "    }\n",
       "</style>\n",
       "<table border=\"1\" class=\"dataframe\">\n",
       "  <thead>\n",
       "    <tr style=\"text-align: right;\">\n",
       "      <th></th>\n",
       "      <th>PatientId</th>\n",
       "      <th>AppointmentID</th>\n",
       "      <th>Gender</th>\n",
       "      <th>ScheduledDay</th>\n",
       "      <th>AppointmentDay</th>\n",
       "      <th>Age</th>\n",
       "      <th>Neighbourhood</th>\n",
       "      <th>Scholarship</th>\n",
       "      <th>Hipertension</th>\n",
       "      <th>Diabetes</th>\n",
       "      <th>Alcoholism</th>\n",
       "      <th>Handcap</th>\n",
       "      <th>SMS_received</th>\n",
       "      <th>No-show</th>\n",
       "    </tr>\n",
       "  </thead>\n",
       "  <tbody>\n",
       "    <tr>\n",
       "      <th>0</th>\n",
       "      <td>2.987250e+13</td>\n",
       "      <td>5642903</td>\n",
       "      <td>F</td>\n",
       "      <td>2016-04-29T18:38:08Z</td>\n",
       "      <td>2016-04-29T00:00:00Z</td>\n",
       "      <td>62</td>\n",
       "      <td>JARDIM DA PENHA</td>\n",
       "      <td>0</td>\n",
       "      <td>1</td>\n",
       "      <td>0</td>\n",
       "      <td>0</td>\n",
       "      <td>0</td>\n",
       "      <td>0</td>\n",
       "      <td>No</td>\n",
       "    </tr>\n",
       "    <tr>\n",
       "      <th>1</th>\n",
       "      <td>5.589978e+14</td>\n",
       "      <td>5642503</td>\n",
       "      <td>M</td>\n",
       "      <td>2016-04-29T16:08:27Z</td>\n",
       "      <td>2016-04-29T00:00:00Z</td>\n",
       "      <td>56</td>\n",
       "      <td>JARDIM DA PENHA</td>\n",
       "      <td>0</td>\n",
       "      <td>0</td>\n",
       "      <td>0</td>\n",
       "      <td>0</td>\n",
       "      <td>0</td>\n",
       "      <td>0</td>\n",
       "      <td>No</td>\n",
       "    </tr>\n",
       "    <tr>\n",
       "      <th>2</th>\n",
       "      <td>4.262962e+12</td>\n",
       "      <td>5642549</td>\n",
       "      <td>F</td>\n",
       "      <td>2016-04-29T16:19:04Z</td>\n",
       "      <td>2016-04-29T00:00:00Z</td>\n",
       "      <td>62</td>\n",
       "      <td>MATA DA PRAIA</td>\n",
       "      <td>0</td>\n",
       "      <td>0</td>\n",
       "      <td>0</td>\n",
       "      <td>0</td>\n",
       "      <td>0</td>\n",
       "      <td>0</td>\n",
       "      <td>No</td>\n",
       "    </tr>\n",
       "    <tr>\n",
       "      <th>3</th>\n",
       "      <td>8.679512e+11</td>\n",
       "      <td>5642828</td>\n",
       "      <td>F</td>\n",
       "      <td>2016-04-29T17:29:31Z</td>\n",
       "      <td>2016-04-29T00:00:00Z</td>\n",
       "      <td>8</td>\n",
       "      <td>PONTAL DE CAMBURI</td>\n",
       "      <td>0</td>\n",
       "      <td>0</td>\n",
       "      <td>0</td>\n",
       "      <td>0</td>\n",
       "      <td>0</td>\n",
       "      <td>0</td>\n",
       "      <td>No</td>\n",
       "    </tr>\n",
       "    <tr>\n",
       "      <th>4</th>\n",
       "      <td>8.841186e+12</td>\n",
       "      <td>5642494</td>\n",
       "      <td>F</td>\n",
       "      <td>2016-04-29T16:07:23Z</td>\n",
       "      <td>2016-04-29T00:00:00Z</td>\n",
       "      <td>56</td>\n",
       "      <td>JARDIM DA PENHA</td>\n",
       "      <td>0</td>\n",
       "      <td>1</td>\n",
       "      <td>1</td>\n",
       "      <td>0</td>\n",
       "      <td>0</td>\n",
       "      <td>0</td>\n",
       "      <td>No</td>\n",
       "    </tr>\n",
       "  </tbody>\n",
       "</table>\n",
       "</div>"
      ],
      "text/plain": [
       "      PatientId  AppointmentID Gender          ScheduledDay  \\\n",
       "0  2.987250e+13        5642903      F  2016-04-29T18:38:08Z   \n",
       "1  5.589978e+14        5642503      M  2016-04-29T16:08:27Z   \n",
       "2  4.262962e+12        5642549      F  2016-04-29T16:19:04Z   \n",
       "3  8.679512e+11        5642828      F  2016-04-29T17:29:31Z   \n",
       "4  8.841186e+12        5642494      F  2016-04-29T16:07:23Z   \n",
       "\n",
       "         AppointmentDay  Age      Neighbourhood  Scholarship  Hipertension  \\\n",
       "0  2016-04-29T00:00:00Z   62    JARDIM DA PENHA            0             1   \n",
       "1  2016-04-29T00:00:00Z   56    JARDIM DA PENHA            0             0   \n",
       "2  2016-04-29T00:00:00Z   62      MATA DA PRAIA            0             0   \n",
       "3  2016-04-29T00:00:00Z    8  PONTAL DE CAMBURI            0             0   \n",
       "4  2016-04-29T00:00:00Z   56    JARDIM DA PENHA            0             1   \n",
       "\n",
       "   Diabetes  Alcoholism  Handcap  SMS_received No-show  \n",
       "0         0           0        0             0      No  \n",
       "1         0           0        0             0      No  \n",
       "2         0           0        0             0      No  \n",
       "3         0           0        0             0      No  \n",
       "4         1           0        0             0      No  "
      ]
     },
     "execution_count": 9,
     "metadata": {},
     "output_type": "execute_result"
    }
   ],
   "source": [
    "## importing my csv dataset into this jupyter notebook\n",
    "## lets name our dataframe as df_appointment\n",
    "df_appointment = pd.read_csv('KaggleV2-May-2016.csv')\n",
    "df_appointment.head()## this outputs the first five rows of our dataset"
   ]
  },
  {
   "cell_type": "markdown",
   "id": "f3f753a4",
   "metadata": {},
   "source": [
    "### General Inspections"
   ]
  },
  {
   "cell_type": "code",
   "execution_count": 10,
   "id": "e400fa57",
   "metadata": {},
   "outputs": [
    {
     "data": {
      "text/plain": [
       "(110527, 14)"
      ]
     },
     "execution_count": 10,
     "metadata": {},
     "output_type": "execute_result"
    }
   ],
   "source": [
    "## to determine how many rows and columns are in our dataset\n",
    "df_appointment.shape"
   ]
  },
  {
   "cell_type": "code",
   "execution_count": 11,
   "id": "05dd42c0",
   "metadata": {
    "scrolled": false
   },
   "outputs": [
    {
     "data": {
      "text/html": [
       "<div>\n",
       "<style scoped>\n",
       "    .dataframe tbody tr th:only-of-type {\n",
       "        vertical-align: middle;\n",
       "    }\n",
       "\n",
       "    .dataframe tbody tr th {\n",
       "        vertical-align: top;\n",
       "    }\n",
       "\n",
       "    .dataframe thead th {\n",
       "        text-align: right;\n",
       "    }\n",
       "</style>\n",
       "<table border=\"1\" class=\"dataframe\">\n",
       "  <thead>\n",
       "    <tr style=\"text-align: right;\">\n",
       "      <th></th>\n",
       "      <th>PatientId</th>\n",
       "      <th>AppointmentID</th>\n",
       "      <th>Age</th>\n",
       "      <th>Scholarship</th>\n",
       "      <th>Hipertension</th>\n",
       "      <th>Diabetes</th>\n",
       "      <th>Alcoholism</th>\n",
       "      <th>Handcap</th>\n",
       "      <th>SMS_received</th>\n",
       "    </tr>\n",
       "  </thead>\n",
       "  <tbody>\n",
       "    <tr>\n",
       "      <th>count</th>\n",
       "      <td>1.105270e+05</td>\n",
       "      <td>1.105270e+05</td>\n",
       "      <td>110527.000000</td>\n",
       "      <td>110527.000000</td>\n",
       "      <td>110527.000000</td>\n",
       "      <td>110527.000000</td>\n",
       "      <td>110527.000000</td>\n",
       "      <td>110527.000000</td>\n",
       "      <td>110527.000000</td>\n",
       "    </tr>\n",
       "    <tr>\n",
       "      <th>mean</th>\n",
       "      <td>1.474963e+14</td>\n",
       "      <td>5.675305e+06</td>\n",
       "      <td>37.088874</td>\n",
       "      <td>0.098266</td>\n",
       "      <td>0.197246</td>\n",
       "      <td>0.071865</td>\n",
       "      <td>0.030400</td>\n",
       "      <td>0.022248</td>\n",
       "      <td>0.321026</td>\n",
       "    </tr>\n",
       "    <tr>\n",
       "      <th>std</th>\n",
       "      <td>2.560949e+14</td>\n",
       "      <td>7.129575e+04</td>\n",
       "      <td>23.110205</td>\n",
       "      <td>0.297675</td>\n",
       "      <td>0.397921</td>\n",
       "      <td>0.258265</td>\n",
       "      <td>0.171686</td>\n",
       "      <td>0.161543</td>\n",
       "      <td>0.466873</td>\n",
       "    </tr>\n",
       "    <tr>\n",
       "      <th>min</th>\n",
       "      <td>3.921784e+04</td>\n",
       "      <td>5.030230e+06</td>\n",
       "      <td>-1.000000</td>\n",
       "      <td>0.000000</td>\n",
       "      <td>0.000000</td>\n",
       "      <td>0.000000</td>\n",
       "      <td>0.000000</td>\n",
       "      <td>0.000000</td>\n",
       "      <td>0.000000</td>\n",
       "    </tr>\n",
       "    <tr>\n",
       "      <th>25%</th>\n",
       "      <td>4.172614e+12</td>\n",
       "      <td>5.640286e+06</td>\n",
       "      <td>18.000000</td>\n",
       "      <td>0.000000</td>\n",
       "      <td>0.000000</td>\n",
       "      <td>0.000000</td>\n",
       "      <td>0.000000</td>\n",
       "      <td>0.000000</td>\n",
       "      <td>0.000000</td>\n",
       "    </tr>\n",
       "    <tr>\n",
       "      <th>50%</th>\n",
       "      <td>3.173184e+13</td>\n",
       "      <td>5.680573e+06</td>\n",
       "      <td>37.000000</td>\n",
       "      <td>0.000000</td>\n",
       "      <td>0.000000</td>\n",
       "      <td>0.000000</td>\n",
       "      <td>0.000000</td>\n",
       "      <td>0.000000</td>\n",
       "      <td>0.000000</td>\n",
       "    </tr>\n",
       "    <tr>\n",
       "      <th>75%</th>\n",
       "      <td>9.439172e+13</td>\n",
       "      <td>5.725524e+06</td>\n",
       "      <td>55.000000</td>\n",
       "      <td>0.000000</td>\n",
       "      <td>0.000000</td>\n",
       "      <td>0.000000</td>\n",
       "      <td>0.000000</td>\n",
       "      <td>0.000000</td>\n",
       "      <td>1.000000</td>\n",
       "    </tr>\n",
       "    <tr>\n",
       "      <th>max</th>\n",
       "      <td>9.999816e+14</td>\n",
       "      <td>5.790484e+06</td>\n",
       "      <td>115.000000</td>\n",
       "      <td>1.000000</td>\n",
       "      <td>1.000000</td>\n",
       "      <td>1.000000</td>\n",
       "      <td>1.000000</td>\n",
       "      <td>4.000000</td>\n",
       "      <td>1.000000</td>\n",
       "    </tr>\n",
       "  </tbody>\n",
       "</table>\n",
       "</div>"
      ],
      "text/plain": [
       "          PatientId  AppointmentID            Age    Scholarship  \\\n",
       "count  1.105270e+05   1.105270e+05  110527.000000  110527.000000   \n",
       "mean   1.474963e+14   5.675305e+06      37.088874       0.098266   \n",
       "std    2.560949e+14   7.129575e+04      23.110205       0.297675   \n",
       "min    3.921784e+04   5.030230e+06      -1.000000       0.000000   \n",
       "25%    4.172614e+12   5.640286e+06      18.000000       0.000000   \n",
       "50%    3.173184e+13   5.680573e+06      37.000000       0.000000   \n",
       "75%    9.439172e+13   5.725524e+06      55.000000       0.000000   \n",
       "max    9.999816e+14   5.790484e+06     115.000000       1.000000   \n",
       "\n",
       "        Hipertension       Diabetes     Alcoholism        Handcap  \\\n",
       "count  110527.000000  110527.000000  110527.000000  110527.000000   \n",
       "mean        0.197246       0.071865       0.030400       0.022248   \n",
       "std         0.397921       0.258265       0.171686       0.161543   \n",
       "min         0.000000       0.000000       0.000000       0.000000   \n",
       "25%         0.000000       0.000000       0.000000       0.000000   \n",
       "50%         0.000000       0.000000       0.000000       0.000000   \n",
       "75%         0.000000       0.000000       0.000000       0.000000   \n",
       "max         1.000000       1.000000       1.000000       4.000000   \n",
       "\n",
       "        SMS_received  \n",
       "count  110527.000000  \n",
       "mean        0.321026  \n",
       "std         0.466873  \n",
       "min         0.000000  \n",
       "25%         0.000000  \n",
       "50%         0.000000  \n",
       "75%         1.000000  \n",
       "max         1.000000  "
      ]
     },
     "execution_count": 11,
     "metadata": {},
     "output_type": "execute_result"
    }
   ],
   "source": [
    "## Generate summary statistics for each column\n",
    "df_appointment.describe()"
   ]
  },
  {
   "cell_type": "code",
   "execution_count": 12,
   "id": "ebdaf42a",
   "metadata": {},
   "outputs": [
    {
     "data": {
      "text/plain": [
       "PatientId         float64\n",
       "AppointmentID       int64\n",
       "Gender             object\n",
       "ScheduledDay       object\n",
       "AppointmentDay     object\n",
       "Age                 int64\n",
       "Neighbourhood      object\n",
       "Scholarship         int64\n",
       "Hipertension        int64\n",
       "Diabetes            int64\n",
       "Alcoholism          int64\n",
       "Handcap             int64\n",
       "SMS_received        int64\n",
       "No-show            object\n",
       "dtype: object"
      ]
     },
     "execution_count": 12,
     "metadata": {},
     "output_type": "execute_result"
    }
   ],
   "source": [
    "## To identify the data type for each column\n",
    "df_appointment.dtypes"
   ]
  },
  {
   "cell_type": "code",
   "execution_count": 13,
   "id": "b25d2276",
   "metadata": {},
   "outputs": [
    {
     "data": {
      "image/png": "[encoded data removed]",
      "text/plain": [
       "<Figure size 1296x1152 with 9 Axes>"
      ]
     },
     "metadata": {
      "needs_background": "light"
     },
     "output_type": "display_data"
    }
   ],
   "source": [
    "## lets see the distribution of our variables using hist()\n",
    "df_appointment.hist(figsize=(18,16));"
   ]
  },
  {
   "cell_type": "markdown",
   "id": "8783de35",
   "metadata": {},
   "source": [
    "## Report:\n",
    "- Age: There are many young patients in our dataset but from 65years old we also see that there also old patients.\n",
    "- Scholarship :Many patients were not on scholarship.\n",
    "- Hipertension:Many patients are not suffering from hipertension though we also have quite a number suffering from it.\n",
    "- Diabetes: There are less patients suffering from diabetes.\n",
    "- Alcoholisim : Many patients do not consume alcohol.\n",
    "- Handcap: We have very few handcap patients.\n",
    "- SMS_received: many patients were not able to receive the messages as compared to those who received it."
   ]
  },
  {
   "cell_type": "markdown",
   "id": "bca3af28",
   "metadata": {},
   "source": [
    "### Data Cleaning"
   ]
  },
  {
   "cell_type": "code",
   "execution_count": 14,
   "id": "c5ddaf96",
   "metadata": {},
   "outputs": [
    {
     "data": {
      "text/plain": [
       "PatientId         0\n",
       "AppointmentID     0\n",
       "Gender            0\n",
       "ScheduledDay      0\n",
       "AppointmentDay    0\n",
       "Age               0\n",
       "Neighbourhood     0\n",
       "Scholarship       0\n",
       "Hipertension      0\n",
       "Diabetes          0\n",
       "Alcoholism        0\n",
       "Handcap           0\n",
       "SMS_received      0\n",
       "No-show           0\n",
       "dtype: int64"
      ]
     },
     "execution_count": 14,
     "metadata": {},
     "output_type": "execute_result"
    }
   ],
   "source": [
    "## This helps us check if there is any missing values in our dataset\n",
    "df_appointment.isnull().sum()"
   ]
  },
  {
   "cell_type": "markdown",
   "id": "6b824f5d",
   "metadata": {},
   "source": [
    "### Report: There are no missing values"
   ]
  },
  {
   "cell_type": "code",
   "execution_count": 15,
   "id": "07746d35",
   "metadata": {},
   "outputs": [
    {
     "data": {
      "text/plain": [
       "0"
      ]
     },
     "execution_count": 15,
     "metadata": {},
     "output_type": "execute_result"
    }
   ],
   "source": [
    "## Checking for any duplicates\n",
    "df_appointment.duplicated().sum()"
   ]
  },
  {
   "cell_type": "markdown",
   "id": "40eaaa0b",
   "metadata": {},
   "source": [
    "### Report: There are no duplicates in our dataset"
   ]
  },
  {
   "cell_type": "code",
   "execution_count": 16,
   "id": "6b24ab05",
   "metadata": {},
   "outputs": [],
   "source": [
    "# Renaming No-show to No_show\n",
    "df_appointment.rename(columns={'No-show':'No_show'},inplace=True)"
   ]
  },
  {
   "cell_type": "code",
   "execution_count": 17,
   "id": "0f9da758",
   "metadata": {},
   "outputs": [
    {
     "name": "stdout",
     "output_type": "stream",
     "text": [
      "PatientId\n",
      "AppointmentID\n",
      "Gender\n",
      "ScheduledDay\n",
      "AppointmentDay\n",
      "Age\n",
      "Neighbourhood\n",
      "Scholarship\n",
      "Hipertension\n",
      "Diabetes\n",
      "Alcoholism\n",
      "Handcap\n",
      "SMS_received\n",
      "No_show\n"
     ]
    }
   ],
   "source": [
    "for col in df_appointment.columns:\n",
    "    print(col)"
   ]
  },
  {
   "cell_type": "markdown",
   "id": "869c53f1",
   "metadata": {},
   "source": [
    "<a id='Exploration'></a>\n",
    "## Exploratory Data Analysis \n",
    "> In this section we are going to explore our data in order to find the answers to our question."
   ]
  },
  {
   "cell_type": "markdown",
   "id": "2f534d24",
   "metadata": {},
   "source": [
    "### How many patients were able to receive the SMS and showed up?"
   ]
  },
  {
   "cell_type": "code",
   "execution_count": 18,
   "id": "289552be",
   "metadata": {},
   "outputs": [
    {
     "data": {
      "text/plain": [
       "SMS_received  No_show\n",
       "0             No         62510\n",
       "              Yes        12535\n",
       "1             No         25698\n",
       "              Yes         9784\n",
       "Name: PatientId, dtype: int64"
      ]
     },
     "execution_count": 18,
     "metadata": {},
     "output_type": "execute_result"
    }
   ],
   "source": [
    "df_appointment.groupby(['SMS_received','No_show'])['PatientId'].count()"
   ]
  },
  {
   "cell_type": "markdown",
   "id": "430948db",
   "metadata": {},
   "source": [
    "### Report: \n",
    "- Patients who didnot receive the sms but showed up are 62,510.\n",
    "- Patients who didnot receive the sms and never showed up are 12535.\n",
    "- Patients who did receive the sms and showed up are 25698.\n",
    "- Patients who did receive the sms but never showed up are 9784."
   ]
  },
  {
   "cell_type": "code",
   "execution_count": 19,
   "id": "c20345f4",
   "metadata": {},
   "outputs": [],
   "source": [
    "# defining show and noshow\n",
    "show=df_appointment.No_show==\"No\"\n",
    "noshow=df_appointment.No_show==\"Yes\""
   ]
  },
  {
   "cell_type": "code",
   "execution_count": 20,
   "id": "350f2c03",
   "metadata": {},
   "outputs": [
    {
     "data": {
      "image/png": "[encoded data removed]",
      "text/plain": [
       "<Figure size 1152x288 with 1 Axes>"
      ]
     },
     "metadata": {
      "needs_background": "light"
     },
     "output_type": "display_data"
    }
   ],
   "source": [
    "# does receiving sms determines show /no show of a patient?\n",
    "def showingup(df_appointment,col_name,showedup,nevershowedup):\n",
    "    plt.figure(figsize=[16,4])\n",
    "    df_appointment[col_name][show].hist(alpha=0.5,bins=20,color='red',label='show');\n",
    "    df_appointment[col_name][noshow].hist(alpha=0.5,bins=20,color='green',label='noshow');\n",
    "    plt.legend();\n",
    "    plt.title('sms vs show/no show')\n",
    "    plt.xlabel('sms_received')\n",
    "    plt.ylabel('Patient no');\n",
    "showingup(df_appointment,'SMS_received',show,noshow)"
   ]
  },
  {
   "cell_type": "markdown",
   "id": "11372b2a",
   "metadata": {},
   "source": [
    "### Report:  \n",
    "- From the bar graph above we see that most patients did show up for their appointment even though they did not receive the SMS.We also see that,those patients who received the SMS and fail to show up are few compared to those who received the sms and showed up.\n",
    "- 32% of the patients received the sms while 68% did not receive the sms.From those who received the sms we see that 72% showed up and for those who didnot receive the sms but showed up are 83%."
   ]
  },
  {
   "cell_type": "markdown",
   "id": "d3617168",
   "metadata": {},
   "source": [
    "### Which gender showed up or never showed up the most."
   ]
  },
  {
   "cell_type": "code",
   "execution_count": 21,
   "id": "5fa3f0ec",
   "metadata": {},
   "outputs": [
    {
     "data": {
      "text/plain": [
       "F    71840\n",
       "M    38687\n",
       "Name: Gender, dtype: int64"
      ]
     },
     "execution_count": 21,
     "metadata": {},
     "output_type": "execute_result"
    }
   ],
   "source": [
    "## the number of females and males who booked an appointment\n",
    "df_appointment['Gender'].value_counts()"
   ]
  },
  {
   "cell_type": "code",
   "execution_count": 22,
   "id": "b1360915",
   "metadata": {},
   "outputs": [
    {
     "data": {
      "image/png": "[encoded data removed]",
      "text/plain": [
       "<Figure size 432x288 with 1 Axes>"
      ]
     },
     "metadata": {
      "needs_background": "light"
     },
     "output_type": "display_data"
    }
   ],
   "source": [
    "## lets see the distribution of females and males who booked the appointment.\n",
    "df_appointment['Gender'].value_counts().plot(kind='bar')\n",
    "plt.title('Distribution of Gender')\n",
    "plt.xlabel('Gender')\n",
    "plt.ylabel('Patient number');"
   ]
  },
  {
   "cell_type": "markdown",
   "id": "c7790561",
   "metadata": {},
   "source": [
    "#### From the distribution above we see that there are more female patients than men."
   ]
  },
  {
   "cell_type": "code",
   "execution_count": 23,
   "id": "9fb5fbe8",
   "metadata": {},
   "outputs": [],
   "source": [
    "gender_analysis = ['Gender','SMS_received','No_show']"
   ]
  },
  {
   "cell_type": "code",
   "execution_count": 24,
   "id": "80a3eaee",
   "metadata": {},
   "outputs": [
    {
     "data": {
      "text/plain": [
       "Gender  SMS_received  No_show\n",
       "F       0             No         39764\n",
       "M       0             No         22746\n",
       "F       1             No         17482\n",
       "M       1             No          8216\n",
       "F       0             Yes         7874\n",
       "        1             Yes         6720\n",
       "M       0             Yes         4661\n",
       "        1             Yes         3064\n",
       "dtype: int64"
      ]
     },
     "execution_count": 24,
     "metadata": {},
     "output_type": "execute_result"
    }
   ],
   "source": [
    "## checking which gender did or didnot receive the sms and showed or never showed up.\n",
    "df_appointment[gender_analysis].value_counts()"
   ]
  },
  {
   "cell_type": "markdown",
   "id": "30ca9375",
   "metadata": {},
   "source": [
    "#### Report:\n",
    "- 39764 females didnot receive the sms but showed up.17482 received the sms and also showed up.7874 didnot receive the sms and never showedup while 6720 females received the sms but never showedup.\n",
    "- 22746 males didnot receive the sms but showed up.8216 received the sms and also showed up.4661 didnot receive the sms and never showedup while 3064 males received the sms but never showedup.\n"
   ]
  },
  {
   "cell_type": "code",
   "execution_count": 25,
   "id": "f1564636",
   "metadata": {},
   "outputs": [],
   "source": [
    "df_1 = df_appointment[gender_analysis]\n"
   ]
  },
  {
   "cell_type": "code",
   "execution_count": 26,
   "id": "f838ffc1",
   "metadata": {},
   "outputs": [
    {
     "data": {
      "image/png": "[encoded data removed]",
      "text/plain": [
       "<Figure size 432x288 with 1 Axes>"
      ]
     },
     "metadata": {
      "needs_background": "light"
     },
     "output_type": "display_data"
    }
   ],
   "source": [
    "## showing distribution of age using our new dataframe\n",
    "sns.countplot(x ='Gender', hue = \"No_show\", data = df_1).set(title='Comparison of Gender with No_show');"
   ]
  },
  {
   "cell_type": "markdown",
   "id": "655ea594",
   "metadata": {},
   "source": [
    "#### From the plot above,we see that the number of both males and females who showed up for their appointment is higher than the number of both genders who failed to showup"
   ]
  },
  {
   "cell_type": "code",
   "execution_count": 27,
   "id": "683cc13a",
   "metadata": {},
   "outputs": [
    {
     "name": "stderr",
     "output_type": "stream",
     "text": [
      "C:\\Users\\user\\Documents\\THE ANACONDA\\ANACONDA\\lib\\site-packages\\IPython\\core\\pylabtools.py:132: UserWarning: Creating legend with loc=\"best\" can be slow with large amounts of data.\n",
      "  fig.canvas.print_figure(bytes_io, **kw)\n"
     ]
    },
    {
     "data": {
      "image/png": "[encoded data removed]",
      "text/plain": [
       "<Figure size 1008x288 with 1 Axes>"
      ]
     },
     "metadata": {},
     "output_type": "display_data"
    }
   ],
   "source": [
    "def showingup(df_appointment,col_name,showedup,nevershowedup):\n",
    "    plt.figure(figsize=[14,4])\n",
    "    df_appointment[col_name][show].value_counts(normalize=True).plot(kind='pie',label='noshow')\n",
    "    df_appointment[col_name][noshow].value_counts(normalize=True).plot(kind='pie',label='noshow')\n",
    "    plt.legend();\n",
    "    plt.title('comparing Gender with No_show')\n",
    "    plt.xlabel('Gender')\n",
    "    plt.ylabel('Patient no');\n",
    "showingup(df_appointment,'Gender',show,noshow)"
   ]
  },
  {
   "cell_type": "markdown",
   "id": "048a2808",
   "metadata": {},
   "source": [
    "##### The above pier chart does not show us the difference between the genders in terms of which showed up or not.Thus we will have to separate them."
   ]
  },
  {
   "cell_type": "code",
   "execution_count": 28,
   "id": "9d313573",
   "metadata": {},
   "outputs": [
    {
     "data": {
      "image/png": "[encoded data removed]",
      "text/plain": [
       "<Figure size 1008x288 with 1 Axes>"
      ]
     },
     "metadata": {},
     "output_type": "display_data"
    }
   ],
   "source": [
    "## plotting a pie chart showing which gender showed up in large numbers.\n",
    "def showingup(df_appointment,col_name,showedup,nevershowedup):\n",
    "    plt.figure(figsize=[14,4])\n",
    "    df_appointment[col_name][show].value_counts(normalize=True).plot(kind='pie',label='noshow')\n",
    "    plt.legend();\n",
    "    plt.title('comparing Gender with No_show=No')\n",
    "    plt.xlabel('Gender')\n",
    "    plt.ylabel('Patient no');\n",
    "showingup(df_appointment,'Gender',show,noshow)"
   ]
  },
  {
   "cell_type": "markdown",
   "id": "4d3632c3",
   "metadata": {},
   "source": [
    "#### Females showed up the most."
   ]
  },
  {
   "cell_type": "code",
   "execution_count": 29,
   "id": "223b2fed",
   "metadata": {},
   "outputs": [
    {
     "data": {
      "image/png": "[encoded data removed]",
      "text/plain": [
       "<Figure size 1008x288 with 1 Axes>"
      ]
     },
     "metadata": {},
     "output_type": "display_data"
    }
   ],
   "source": [
    "## Pie chart showing which gender registered a high number of No_show=Yes\n",
    "def showingup(df_appointment,col_name,showedup,nevershowedup):\n",
    "    plt.figure(figsize=[14,4])\n",
    "    df_appointment[col_name][noshow].value_counts(normalize=True).plot(kind='pie',label='noshow')\n",
    "    plt.legend();\n",
    "    plt.title('comparing Gender with No_show=Yes')\n",
    "    plt.xlabel('Gender')\n",
    "    plt.ylabel('Patient no');\n",
    "showingup(df_appointment,'Gender',show,noshow)"
   ]
  },
  {
   "cell_type": "markdown",
   "id": "dc93737b",
   "metadata": {},
   "source": [
    "#### From the above piechart we see that more females were not able to show up than men."
   ]
  },
  {
   "cell_type": "markdown",
   "id": "6b39fc91",
   "metadata": {},
   "source": [
    "## Report:\n",
    "From the pie chart above we see that females are the one who showed up the most.\n",
    "Out of 71840 females who booked for an appointment, 57246 showed up.That is 80% ofthe female were able to show up.\n",
    "Out of 38687 males who booked the appointment,30962 showed up.That is 80% of the male were able to show up.\n",
    "From the above findings we see that 20% of both males and females failed to show up."
   ]
  },
  {
   "cell_type": "markdown",
   "id": "249885a4",
   "metadata": {},
   "source": [
    "### Can the age distribution be used to determine if a patient will show up or not "
   ]
  },
  {
   "cell_type": "code",
   "execution_count": 30,
   "id": "72a4ac79",
   "metadata": {},
   "outputs": [
    {
     "data": {
      "text/html": [
       "<div>\n",
       "<style scoped>\n",
       "    .dataframe tbody tr th:only-of-type {\n",
       "        vertical-align: middle;\n",
       "    }\n",
       "\n",
       "    .dataframe tbody tr th {\n",
       "        vertical-align: top;\n",
       "    }\n",
       "\n",
       "    .dataframe thead th {\n",
       "        text-align: right;\n",
       "    }\n",
       "</style>\n",
       "<table border=\"1\" class=\"dataframe\">\n",
       "  <thead>\n",
       "    <tr style=\"text-align: right;\">\n",
       "      <th></th>\n",
       "      <th>PatientId</th>\n",
       "      <th>AppointmentID</th>\n",
       "      <th>Age</th>\n",
       "      <th>Scholarship</th>\n",
       "      <th>Hipertension</th>\n",
       "      <th>Diabetes</th>\n",
       "      <th>Alcoholism</th>\n",
       "      <th>Handcap</th>\n",
       "      <th>SMS_received</th>\n",
       "    </tr>\n",
       "  </thead>\n",
       "  <tbody>\n",
       "    <tr>\n",
       "      <th>count</th>\n",
       "      <td>1.105270e+05</td>\n",
       "      <td>1.105270e+05</td>\n",
       "      <td>110527.000000</td>\n",
       "      <td>110527.000000</td>\n",
       "      <td>110527.000000</td>\n",
       "      <td>110527.000000</td>\n",
       "      <td>110527.000000</td>\n",
       "      <td>110527.000000</td>\n",
       "      <td>110527.000000</td>\n",
       "    </tr>\n",
       "    <tr>\n",
       "      <th>mean</th>\n",
       "      <td>1.474963e+14</td>\n",
       "      <td>5.675305e+06</td>\n",
       "      <td>37.088874</td>\n",
       "      <td>0.098266</td>\n",
       "      <td>0.197246</td>\n",
       "      <td>0.071865</td>\n",
       "      <td>0.030400</td>\n",
       "      <td>0.022248</td>\n",
       "      <td>0.321026</td>\n",
       "    </tr>\n",
       "    <tr>\n",
       "      <th>std</th>\n",
       "      <td>2.560949e+14</td>\n",
       "      <td>7.129575e+04</td>\n",
       "      <td>23.110205</td>\n",
       "      <td>0.297675</td>\n",
       "      <td>0.397921</td>\n",
       "      <td>0.258265</td>\n",
       "      <td>0.171686</td>\n",
       "      <td>0.161543</td>\n",
       "      <td>0.466873</td>\n",
       "    </tr>\n",
       "    <tr>\n",
       "      <th>min</th>\n",
       "      <td>3.921784e+04</td>\n",
       "      <td>5.030230e+06</td>\n",
       "      <td>-1.000000</td>\n",
       "      <td>0.000000</td>\n",
       "      <td>0.000000</td>\n",
       "      <td>0.000000</td>\n",
       "      <td>0.000000</td>\n",
       "      <td>0.000000</td>\n",
       "      <td>0.000000</td>\n",
       "    </tr>\n",
       "    <tr>\n",
       "      <th>25%</th>\n",
       "      <td>4.172614e+12</td>\n",
       "      <td>5.640286e+06</td>\n",
       "      <td>18.000000</td>\n",
       "      <td>0.000000</td>\n",
       "      <td>0.000000</td>\n",
       "      <td>0.000000</td>\n",
       "      <td>0.000000</td>\n",
       "      <td>0.000000</td>\n",
       "      <td>0.000000</td>\n",
       "    </tr>\n",
       "    <tr>\n",
       "      <th>50%</th>\n",
       "      <td>3.173184e+13</td>\n",
       "      <td>5.680573e+06</td>\n",
       "      <td>37.000000</td>\n",
       "      <td>0.000000</td>\n",
       "      <td>0.000000</td>\n",
       "      <td>0.000000</td>\n",
       "      <td>0.000000</td>\n",
       "      <td>0.000000</td>\n",
       "      <td>0.000000</td>\n",
       "    </tr>\n",
       "    <tr>\n",
       "      <th>75%</th>\n",
       "      <td>9.439172e+13</td>\n",
       "      <td>5.725524e+06</td>\n",
       "      <td>55.000000</td>\n",
       "      <td>0.000000</td>\n",
       "      <td>0.000000</td>\n",
       "      <td>0.000000</td>\n",
       "      <td>0.000000</td>\n",
       "      <td>0.000000</td>\n",
       "      <td>1.000000</td>\n",
       "    </tr>\n",
       "    <tr>\n",
       "      <th>max</th>\n",
       "      <td>9.999816e+14</td>\n",
       "      <td>5.790484e+06</td>\n",
       "      <td>115.000000</td>\n",
       "      <td>1.000000</td>\n",
       "      <td>1.000000</td>\n",
       "      <td>1.000000</td>\n",
       "      <td>1.000000</td>\n",
       "      <td>4.000000</td>\n",
       "      <td>1.000000</td>\n",
       "    </tr>\n",
       "  </tbody>\n",
       "</table>\n",
       "</div>"
      ],
      "text/plain": [
       "          PatientId  AppointmentID            Age    Scholarship  \\\n",
       "count  1.105270e+05   1.105270e+05  110527.000000  110527.000000   \n",
       "mean   1.474963e+14   5.675305e+06      37.088874       0.098266   \n",
       "std    2.560949e+14   7.129575e+04      23.110205       0.297675   \n",
       "min    3.921784e+04   5.030230e+06      -1.000000       0.000000   \n",
       "25%    4.172614e+12   5.640286e+06      18.000000       0.000000   \n",
       "50%    3.173184e+13   5.680573e+06      37.000000       0.000000   \n",
       "75%    9.439172e+13   5.725524e+06      55.000000       0.000000   \n",
       "max    9.999816e+14   5.790484e+06     115.000000       1.000000   \n",
       "\n",
       "        Hipertension       Diabetes     Alcoholism        Handcap  \\\n",
       "count  110527.000000  110527.000000  110527.000000  110527.000000   \n",
       "mean        0.197246       0.071865       0.030400       0.022248   \n",
       "std         0.397921       0.258265       0.171686       0.161543   \n",
       "min         0.000000       0.000000       0.000000       0.000000   \n",
       "25%         0.000000       0.000000       0.000000       0.000000   \n",
       "50%         0.000000       0.000000       0.000000       0.000000   \n",
       "75%         0.000000       0.000000       0.000000       0.000000   \n",
       "max         1.000000       1.000000       1.000000       4.000000   \n",
       "\n",
       "        SMS_received  \n",
       "count  110527.000000  \n",
       "mean        0.321026  \n",
       "std         0.466873  \n",
       "min         0.000000  \n",
       "25%         0.000000  \n",
       "50%         0.000000  \n",
       "75%         1.000000  \n",
       "max         1.000000  "
      ]
     },
     "execution_count": 30,
     "metadata": {},
     "output_type": "execute_result"
    }
   ],
   "source": [
    "df_appointment.describe()"
   ]
  },
  {
   "cell_type": "markdown",
   "id": "89cdb03f",
   "metadata": {},
   "source": [
    "### Report:\n",
    "from the command above, we see that on average we have 37 year old patients.25% of the patients are 18 years and below and 75% are 55 years and below.There are also old people who have more than 100years."
   ]
  },
  {
   "cell_type": "code",
   "execution_count": 31,
   "id": "93eed84b",
   "metadata": {},
   "outputs": [
    {
     "data": {
      "image/png": "[encoded data removed]",
      "text/plain": [
       "<Figure size 432x288 with 1 Axes>"
      ]
     },
     "metadata": {
      "needs_background": "light"
     },
     "output_type": "display_data"
    }
   ],
   "source": [
    "#lets see the age distribution using a histogram\n",
    "df_appointment['Age'].hist()\n",
    "plt.title('Distribution of Age')\n",
    "plt.xlabel('Age')\n",
    "plt.ylabel('Count');"
   ]
  },
  {
   "cell_type": "markdown",
   "id": "b4145c58",
   "metadata": {},
   "source": [
    "#### from the plot above, we see that we have many young people and also we have very old people that is from age 90 to 115. On average our plot is evenly distributed."
   ]
  },
  {
   "cell_type": "code",
   "execution_count": 32,
   "id": "a8b337d1",
   "metadata": {},
   "outputs": [
    {
     "data": {
      "text/html": [
       "<div>\n",
       "<style scoped>\n",
       "    .dataframe tbody tr th:only-of-type {\n",
       "        vertical-align: middle;\n",
       "    }\n",
       "\n",
       "    .dataframe tbody tr th {\n",
       "        vertical-align: top;\n",
       "    }\n",
       "\n",
       "    .dataframe thead th {\n",
       "        text-align: right;\n",
       "    }\n",
       "</style>\n",
       "<table border=\"1\" class=\"dataframe\">\n",
       "  <thead>\n",
       "    <tr style=\"text-align: right;\">\n",
       "      <th></th>\n",
       "      <th></th>\n",
       "      <th>PatientId</th>\n",
       "      <th>AppointmentID</th>\n",
       "      <th>Gender</th>\n",
       "      <th>ScheduledDay</th>\n",
       "      <th>AppointmentDay</th>\n",
       "      <th>Neighbourhood</th>\n",
       "      <th>Scholarship</th>\n",
       "      <th>Hipertension</th>\n",
       "      <th>Diabetes</th>\n",
       "      <th>Alcoholism</th>\n",
       "      <th>Handcap</th>\n",
       "      <th>SMS_received</th>\n",
       "    </tr>\n",
       "    <tr>\n",
       "      <th>Age</th>\n",
       "      <th>No_show</th>\n",
       "      <th></th>\n",
       "      <th></th>\n",
       "      <th></th>\n",
       "      <th></th>\n",
       "      <th></th>\n",
       "      <th></th>\n",
       "      <th></th>\n",
       "      <th></th>\n",
       "      <th></th>\n",
       "      <th></th>\n",
       "      <th></th>\n",
       "      <th></th>\n",
       "    </tr>\n",
       "  </thead>\n",
       "  <tbody>\n",
       "    <tr>\n",
       "      <th>-1</th>\n",
       "      <th>No</th>\n",
       "      <td>1</td>\n",
       "      <td>1</td>\n",
       "      <td>1</td>\n",
       "      <td>1</td>\n",
       "      <td>1</td>\n",
       "      <td>1</td>\n",
       "      <td>1</td>\n",
       "      <td>1</td>\n",
       "      <td>1</td>\n",
       "      <td>1</td>\n",
       "      <td>1</td>\n",
       "      <td>1</td>\n",
       "    </tr>\n",
       "    <tr>\n",
       "      <th rowspan=\"2\" valign=\"top\">0</th>\n",
       "      <th>No</th>\n",
       "      <td>2900</td>\n",
       "      <td>2900</td>\n",
       "      <td>2900</td>\n",
       "      <td>2900</td>\n",
       "      <td>2900</td>\n",
       "      <td>2900</td>\n",
       "      <td>2900</td>\n",
       "      <td>2900</td>\n",
       "      <td>2900</td>\n",
       "      <td>2900</td>\n",
       "      <td>2900</td>\n",
       "      <td>2900</td>\n",
       "    </tr>\n",
       "    <tr>\n",
       "      <th>Yes</th>\n",
       "      <td>639</td>\n",
       "      <td>639</td>\n",
       "      <td>639</td>\n",
       "      <td>639</td>\n",
       "      <td>639</td>\n",
       "      <td>639</td>\n",
       "      <td>639</td>\n",
       "      <td>639</td>\n",
       "      <td>639</td>\n",
       "      <td>639</td>\n",
       "      <td>639</td>\n",
       "      <td>639</td>\n",
       "    </tr>\n",
       "    <tr>\n",
       "      <th rowspan=\"2\" valign=\"top\">1</th>\n",
       "      <th>No</th>\n",
       "      <td>1858</td>\n",
       "      <td>1858</td>\n",
       "      <td>1858</td>\n",
       "      <td>1858</td>\n",
       "      <td>1858</td>\n",
       "      <td>1858</td>\n",
       "      <td>1858</td>\n",
       "      <td>1858</td>\n",
       "      <td>1858</td>\n",
       "      <td>1858</td>\n",
       "      <td>1858</td>\n",
       "      <td>1858</td>\n",
       "    </tr>\n",
       "    <tr>\n",
       "      <th>Yes</th>\n",
       "      <td>415</td>\n",
       "      <td>415</td>\n",
       "      <td>415</td>\n",
       "      <td>415</td>\n",
       "      <td>415</td>\n",
       "      <td>415</td>\n",
       "      <td>415</td>\n",
       "      <td>415</td>\n",
       "      <td>415</td>\n",
       "      <td>415</td>\n",
       "      <td>415</td>\n",
       "      <td>415</td>\n",
       "    </tr>\n",
       "    <tr>\n",
       "      <th>...</th>\n",
       "      <th>...</th>\n",
       "      <td>...</td>\n",
       "      <td>...</td>\n",
       "      <td>...</td>\n",
       "      <td>...</td>\n",
       "      <td>...</td>\n",
       "      <td>...</td>\n",
       "      <td>...</td>\n",
       "      <td>...</td>\n",
       "      <td>...</td>\n",
       "      <td>...</td>\n",
       "      <td>...</td>\n",
       "      <td>...</td>\n",
       "    </tr>\n",
       "    <tr>\n",
       "      <th>99</th>\n",
       "      <th>No</th>\n",
       "      <td>1</td>\n",
       "      <td>1</td>\n",
       "      <td>1</td>\n",
       "      <td>1</td>\n",
       "      <td>1</td>\n",
       "      <td>1</td>\n",
       "      <td>1</td>\n",
       "      <td>1</td>\n",
       "      <td>1</td>\n",
       "      <td>1</td>\n",
       "      <td>1</td>\n",
       "      <td>1</td>\n",
       "    </tr>\n",
       "    <tr>\n",
       "      <th>100</th>\n",
       "      <th>No</th>\n",
       "      <td>4</td>\n",
       "      <td>4</td>\n",
       "      <td>4</td>\n",
       "      <td>4</td>\n",
       "      <td>4</td>\n",
       "      <td>4</td>\n",
       "      <td>4</td>\n",
       "      <td>4</td>\n",
       "      <td>4</td>\n",
       "      <td>4</td>\n",
       "      <td>4</td>\n",
       "      <td>4</td>\n",
       "    </tr>\n",
       "    <tr>\n",
       "      <th>102</th>\n",
       "      <th>No</th>\n",
       "      <td>2</td>\n",
       "      <td>2</td>\n",
       "      <td>2</td>\n",
       "      <td>2</td>\n",
       "      <td>2</td>\n",
       "      <td>2</td>\n",
       "      <td>2</td>\n",
       "      <td>2</td>\n",
       "      <td>2</td>\n",
       "      <td>2</td>\n",
       "      <td>2</td>\n",
       "      <td>2</td>\n",
       "    </tr>\n",
       "    <tr>\n",
       "      <th rowspan=\"2\" valign=\"top\">115</th>\n",
       "      <th>No</th>\n",
       "      <td>2</td>\n",
       "      <td>2</td>\n",
       "      <td>2</td>\n",
       "      <td>2</td>\n",
       "      <td>2</td>\n",
       "      <td>2</td>\n",
       "      <td>2</td>\n",
       "      <td>2</td>\n",
       "      <td>2</td>\n",
       "      <td>2</td>\n",
       "      <td>2</td>\n",
       "      <td>2</td>\n",
       "    </tr>\n",
       "    <tr>\n",
       "      <th>Yes</th>\n",
       "      <td>3</td>\n",
       "      <td>3</td>\n",
       "      <td>3</td>\n",
       "      <td>3</td>\n",
       "      <td>3</td>\n",
       "      <td>3</td>\n",
       "      <td>3</td>\n",
       "      <td>3</td>\n",
       "      <td>3</td>\n",
       "      <td>3</td>\n",
       "      <td>3</td>\n",
       "      <td>3</td>\n",
       "    </tr>\n",
       "  </tbody>\n",
       "</table>\n",
       "<p>204 rows × 12 columns</p>\n",
       "</div>"
      ],
      "text/plain": [
       "              PatientId  AppointmentID  Gender  ScheduledDay  AppointmentDay  \\\n",
       "Age  No_show                                                                   \n",
       "-1   No               1              1       1             1               1   \n",
       " 0   No            2900           2900    2900          2900            2900   \n",
       "     Yes            639            639     639           639             639   \n",
       " 1   No            1858           1858    1858          1858            1858   \n",
       "     Yes            415            415     415           415             415   \n",
       "...                 ...            ...     ...           ...             ...   \n",
       " 99  No               1              1       1             1               1   \n",
       " 100 No               4              4       4             4               4   \n",
       " 102 No               2              2       2             2               2   \n",
       " 115 No               2              2       2             2               2   \n",
       "     Yes              3              3       3             3               3   \n",
       "\n",
       "              Neighbourhood  Scholarship  Hipertension  Diabetes  Alcoholism  \\\n",
       "Age  No_show                                                                   \n",
       "-1   No                   1            1             1         1           1   \n",
       " 0   No                2900         2900          2900      2900        2900   \n",
       "     Yes                639          639           639       639         639   \n",
       " 1   No                1858         1858          1858      1858        1858   \n",
       "     Yes                415          415           415       415         415   \n",
       "...                     ...          ...           ...       ...         ...   \n",
       " 99  No                   1            1             1         1           1   \n",
       " 100 No                   4            4             4         4           4   \n",
       " 102 No                   2            2             2         2           2   \n",
       " 115 No                   2            2             2         2           2   \n",
       "     Yes                  3            3             3         3           3   \n",
       "\n",
       "              Handcap  SMS_received  \n",
       "Age  No_show                         \n",
       "-1   No             1             1  \n",
       " 0   No          2900          2900  \n",
       "     Yes          639           639  \n",
       " 1   No          1858          1858  \n",
       "     Yes          415           415  \n",
       "...               ...           ...  \n",
       " 99  No             1             1  \n",
       " 100 No             4             4  \n",
       " 102 No             2             2  \n",
       " 115 No             2             2  \n",
       "     Yes            3             3  \n",
       "\n",
       "[204 rows x 12 columns]"
      ]
     },
     "execution_count": 32,
     "metadata": {},
     "output_type": "execute_result"
    }
   ],
   "source": [
    "## grouping my data with age and no-show.\n",
    "df_appointment.groupby(['Age','No_show']).count()"
   ]
  },
  {
   "cell_type": "code",
   "execution_count": 33,
   "id": "37a0039c",
   "metadata": {},
   "outputs": [],
   "source": [
    "## Extracting these three columns\n",
    "age_analysis = ['Age','SMS_received','No_show']"
   ]
  },
  {
   "cell_type": "code",
   "execution_count": 34,
   "id": "f29cac41",
   "metadata": {},
   "outputs": [],
   "source": [
    "df_2 = df_appointment[age_analysis]"
   ]
  },
  {
   "cell_type": "code",
   "execution_count": 35,
   "id": "2e0a1acc",
   "metadata": {},
   "outputs": [
    {
     "data": {
      "text/html": [
       "<div>\n",
       "<style scoped>\n",
       "    .dataframe tbody tr th:only-of-type {\n",
       "        vertical-align: middle;\n",
       "    }\n",
       "\n",
       "    .dataframe tbody tr th {\n",
       "        vertical-align: top;\n",
       "    }\n",
       "\n",
       "    .dataframe thead th {\n",
       "        text-align: right;\n",
       "    }\n",
       "</style>\n",
       "<table border=\"1\" class=\"dataframe\">\n",
       "  <thead>\n",
       "    <tr style=\"text-align: right;\">\n",
       "      <th></th>\n",
       "      <th></th>\n",
       "      <th>SMS_received</th>\n",
       "    </tr>\n",
       "    <tr>\n",
       "      <th>Age</th>\n",
       "      <th>No_show</th>\n",
       "      <th></th>\n",
       "    </tr>\n",
       "  </thead>\n",
       "  <tbody>\n",
       "    <tr>\n",
       "      <th>-1</th>\n",
       "      <th>No</th>\n",
       "      <td>1</td>\n",
       "    </tr>\n",
       "    <tr>\n",
       "      <th rowspan=\"2\" valign=\"top\">0</th>\n",
       "      <th>No</th>\n",
       "      <td>2900</td>\n",
       "    </tr>\n",
       "    <tr>\n",
       "      <th>Yes</th>\n",
       "      <td>639</td>\n",
       "    </tr>\n",
       "    <tr>\n",
       "      <th rowspan=\"2\" valign=\"top\">1</th>\n",
       "      <th>No</th>\n",
       "      <td>1858</td>\n",
       "    </tr>\n",
       "    <tr>\n",
       "      <th>Yes</th>\n",
       "      <td>415</td>\n",
       "    </tr>\n",
       "    <tr>\n",
       "      <th>...</th>\n",
       "      <th>...</th>\n",
       "      <td>...</td>\n",
       "    </tr>\n",
       "    <tr>\n",
       "      <th>99</th>\n",
       "      <th>No</th>\n",
       "      <td>1</td>\n",
       "    </tr>\n",
       "    <tr>\n",
       "      <th>100</th>\n",
       "      <th>No</th>\n",
       "      <td>4</td>\n",
       "    </tr>\n",
       "    <tr>\n",
       "      <th>102</th>\n",
       "      <th>No</th>\n",
       "      <td>2</td>\n",
       "    </tr>\n",
       "    <tr>\n",
       "      <th rowspan=\"2\" valign=\"top\">115</th>\n",
       "      <th>No</th>\n",
       "      <td>2</td>\n",
       "    </tr>\n",
       "    <tr>\n",
       "      <th>Yes</th>\n",
       "      <td>3</td>\n",
       "    </tr>\n",
       "  </tbody>\n",
       "</table>\n",
       "<p>204 rows × 1 columns</p>\n",
       "</div>"
      ],
      "text/plain": [
       "              SMS_received\n",
       "Age  No_show              \n",
       "-1   No                  1\n",
       " 0   No               2900\n",
       "     Yes               639\n",
       " 1   No               1858\n",
       "     Yes               415\n",
       "...                    ...\n",
       " 99  No                  1\n",
       " 100 No                  4\n",
       " 102 No                  2\n",
       " 115 No                  2\n",
       "     Yes                 3\n",
       "\n",
       "[204 rows x 1 columns]"
      ]
     },
     "execution_count": 35,
     "metadata": {},
     "output_type": "execute_result"
    }
   ],
   "source": [
    "## to check the age which were able to showup/noshowup and how many received sms.\n",
    "df_2.groupby(['Age','No_show']).count()"
   ]
  },
  {
   "cell_type": "code",
   "execution_count": 94,
   "id": "969a6e13",
   "metadata": {},
   "outputs": [
    {
     "data": {
      "image/png": "[encoded data removed]",
      "text/plain": [
       "<Figure size 432x288 with 1 Axes>"
      ]
     },
     "metadata": {
      "needs_background": "light"
     },
     "output_type": "display_data"
    }
   ],
   "source": [
    "## Checking the comparison using histogram.\n",
    "df_appointment.Age[show].hist(alpha=0.9,bins=20,label='show');\n",
    "df_appointment.Age[noshow].hist(alpha=0.9,bins=20,label='noshow');\n",
    "plt.legend()\n",
    "plt.title('Age vs No-show')\n",
    "plt.xlabel('Age')\n",
    "plt.show()          "
   ]
  },
  {
   "cell_type": "markdown",
   "id": "c7c76ef2",
   "metadata": {},
   "source": [
    "#### Infants show up the most.We also see that most young people aged 0 to 62  were able to show up.From age 1 to 60,we see that the number of patients who failed to showup is high."
   ]
  },
  {
   "cell_type": "code",
   "execution_count": 96,
   "id": "9de796eb",
   "metadata": {},
   "outputs": [
    {
     "data": {
      "image/png": "[encoded data removed]",
      "text/plain": [
       "<Figure size 432x288 with 1 Axes>"
      ]
     },
     "metadata": {
      "needs_background": "light"
     },
     "output_type": "display_data"
    }
   ],
   "source": [
    "## Plotting using boxplot to see the distribution of Age with No_show\n",
    "sns.boxplot(x='Age',y='No_show',hue='No_show',data=df_2).set(title='Comparing Age and NO_show');"
   ]
  },
  {
   "cell_type": "markdown",
   "id": "85fb0c19",
   "metadata": {},
   "source": [
    "#### On average most patients(both young and old) were able to show up.\n",
    "- The median age of patients who showed up is 40 and median age of patients who failed to show is 35.\n",
    "- Our box plot is positively skewed."
   ]
  },
  {
   "cell_type": "markdown",
   "id": "87a90f0e",
   "metadata": {},
   "source": [
    "## Report:\n",
    "- Infacts register a high number of patients who showed up.\n",
    "- Most young patients were able to show up than old patients.we also see that the rate at which young patients fail to show up compared to that of old patients is high."
   ]
  },
  {
   "cell_type": "markdown",
   "id": "e94af0c8",
   "metadata": {},
   "source": [
    "\n"
   ]
  },
  {
   "cell_type": "markdown",
   "id": "80719eb4",
   "metadata": {},
   "source": [
    "<a id='Conclusions'></a>\n",
    "## Conclusions.\n",
    "I have gone through my dataset and was able to solve few problems associated with it. I investigated the independent variables with the dependent variables and made some observations.\n",
    "These observations are:\n",
    "- From the data 75,045 patients did not receive the sms while 35,482 did receive sms.Out of 75,045 patients,62510 were able to show up and 12535 failed to show up.Out of 35482 patients 25,698 showed up while 9784 failed to show up. \n",
    "- Thus on average, 83% of the patients who did not receive the sms were able to show up and 72% of those patients who received the sms showed up.\n",
    "- Out of 71840 females who booked for an appointment, 57246 showed up.That is 80% ofthe female were able to show up.Out of 38687 males who booked the appointment,30962 showed up.That is 80% of the male were able to show up.\n",
    "- From the these findings we see that 20% of both males and females failed to show up.We also see that more females booked the appointment than men.\n",
    "- In the Age distribution, we see that on average we have 37 year old patients.25% of the patients are 18 years and below and 75% are 55 years and below.There are also old people who have more than 100years.The age is evenly distributed.\n",
    "- Most young patients showed up for their appointment compared to older patients and also they failed to show up more than the older people.\n",
    "- We can also conclude that our dataset has many young patients though we also have the elderly who are more than 100years.\n",
    "- Most of the patients are not alcoholics.\n",
    "- most patients are suffering from diabetes than hipertension.\n",
    "- Very few patients are handcapped.\n",
    "- from the entire patient population,that is from 110527 patients,88208 showedup while 22,319 failed to show up.\n",
    "- On average,80% of the patients showed up while 20% failed to show up.\n",
    "\n",
    "## Limitations.\n",
    "- The neighbourhood column in our dataset should be given in terms of distance between the patient home and the location of the hospital,so that we see if the distance is one of the causes that make them fail to show"
   ]
  },
  {
   "cell_type": "markdown",
   "id": "cc9fd76e",
   "metadata": {},
   "source": [
    "<a id='Ref'></a>\n",
    "## References.\n",
    "1. https://youtu.be/tse_8LLWtfY\n",
    "1. https://github.com/ksatola/Medical-Appointments-No-Shows"
   ]
  },
  {
   "cell_type": "code",
   "execution_count": null,
   "id": "31f6d241",
   "metadata": {},
   "outputs": [],
   "source": []
  }
 ],
 "metadata": {
  "kernelspec": {
   "display_name": "Python 3",
   "language": "python",
   "name": "python3"
  },
  "language_info": {
   "codemirror_mode": {
    "name": "ipython",
    "version": 3
   },
   "file_extension": ".py",
   "mimetype": "text/x-python",
   "name": "python",
   "nbconvert_exporter": "python",
   "pygments_lexer": "ipython3",
   "version": "3.8.8"
  }
 },
 "nbformat": 4,
 "nbformat_minor": 5
}
